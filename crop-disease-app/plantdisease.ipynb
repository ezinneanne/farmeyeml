{
  "nbformat": 4,
  "nbformat_minor": 0,
  "metadata": {
    "colab": {
      "provenance": []
    },
    "kernelspec": {
      "name": "python3",
      "display_name": "Python 3"
    },
    "language_info": {
      "name": "python"
    }
  },
  "cells": [
    {
      "cell_type": "code",
      "source": [
        "from google.colab import drive\n",
        "drive.mount('/content/drive')\n",
        "#drive.mount(\"/content/drive\", force_remount=True)"
      ],
      "metadata": {
        "colab": {
          "base_uri": "https://localhost:8080/"
        },
        "id": "6VbJU9c3A4kG",
        "outputId": "6fe48870-810a-491d-e7c5-3d30cc2a919b"
      },
      "execution_count": null,
      "outputs": [
        {
          "output_type": "stream",
          "name": "stdout",
          "text": [
            "Mounted at /content/drive\n"
          ]
        }
      ]
    },
    {
      "cell_type": "code",
      "execution_count": null,
      "metadata": {
        "id": "6eXXqrhZV27J"
      },
      "outputs": [],
      "source": [
        "# 🌐 os: For interacting with the operating system, like working with file paths and directories\n",
        "import os\n",
        "\n",
        "# 📁 shutil: For copying, moving, or deleting files and directories\n",
        "import shutil\n",
        "\n",
        "# 🔢 numpy: For handling numerical operations and arrays (used here for data manipulation)\n",
        "import numpy as np\n",
        "\n",
        "# 📊 matplotlib.pyplot: For plotting graphs like accuracy/loss curves to visualize model performance\n",
        "import matplotlib.pyplot as plt\n",
        "\n",
        "# 🔄 train_test_split: For splitting datasets into training and validation sets randomly\n",
        "from sklearn.model_selection import train_test_split\n",
        "\n",
        "# 🤖 tensorflow: The main machine learning library we're using to build and train deep learning models\n",
        "import tensorflow as tf\n",
        "\n",
        "# 🧰 ImageDataGenerator: For loading images and applying real-time data augmentation (like flipping or rotating)\n",
        "from tensorflow.keras.preprocessing.image import ImageDataGenerator\n",
        "\n",
        "# 🏗️ layers: To build the layers of the neural network (like Dense, Dropout, etc.)\n",
        "# 🏗️ models: To define and compile the overall neural network model\n",
        "from tensorflow.keras import layers, models"
      ]
    },
    {
      "cell_type": "code",
      "source": [
        "# Set parameters\n",
        "\n",
        "# Path to the dataset (CATEGORY A inside Google Drive)\n",
        "DATA_DIR = '/content/drive/MyDrive/image_dataset/CATEGORY A/CATA-French'\n",
        "\n",
        "# Path to the output directory where the split (train/val) data will be stored in Colab's local storage\n",
        "OUTPUT_DIR = '/content/split_data'\n",
        "\n",
        "# Path to save the trained model back to Google Drive\n",
        "MODEL_SAVE_PATH = '/content/drive/MyDrive/crop_pest_disease_classifier.keras'\n",
        "\n",
        "# Resize all images to 224x224 pixels (standard size for many pretrained models)\n",
        "IMG_SIZE = (224, 224)\n",
        "\n",
        "# Number of images processed together in one batch during training\n",
        "BATCH_SIZE = 32\n",
        "\n",
        "# Create the output directory if it doesn't already exist\n",
        "os.makedirs(OUTPUT_DIR, exist_ok=True)"
      ],
      "metadata": {
        "id": "NUwpSBtWVkyb"
      },
      "execution_count": null,
      "outputs": []
    },
    {
      "cell_type": "code",
      "source": [
        "# Debugging cell\n",
        "os.listdir('/content/drive/MyDrive')"
      ],
      "metadata": {
        "colab": {
          "base_uri": "https://localhost:8080/"
        },
        "id": "OuecunDxIFp2",
        "outputId": "4e314b7f-cb29-4c7a-9237-e41dbec5e4ba"
      },
      "execution_count": null,
      "outputs": [
        {
          "output_type": "execute_result",
          "data": {
            "text/plain": [
              "['Getting started.pdf', 'TOM2024.zip', 'image_dataset']"
            ]
          },
          "metadata": {},
          "execution_count": 5
        }
      ]
    },
    {
      "cell_type": "code",
      "source": [
        "import glob"
      ],
      "metadata": {
        "id": "DhxZ7JoTW-ou"
      },
      "execution_count": null,
      "outputs": []
    },
    {
      "cell_type": "code",
      "source": [
        "def split_data(data_dir, output_dir, val_size=0.2):\n",
        "    \"\"\"\n",
        "    Split the dataset into training and validation sets while preserving folder structure.\n",
        "    \"\"\"\n",
        "    train_dir = os.path.join(output_dir, 'train')\n",
        "    val_dir = os.path.join(output_dir, 'val')\n",
        "    os.makedirs(train_dir, exist_ok=True)\n",
        "    os.makedirs(val_dir, exist_ok=True)\n",
        "\n",
        "    print(\"📁 Starting data split...\")\n",
        "\n",
        "    # Loop through each language folder (CATA-English, CATA-French)\n",
        "    for language_folder in os.listdir(data_dir):\n",
        "        language_path = os.path.join(data_dir, language_folder)\n",
        "\n",
        "        if not os.path.isdir(language_path):\n",
        "            continue  # Skip if it's not a folder\n",
        "\n",
        "        print(f\"🔍 Processing language folder: {language_folder}\")\n",
        "\n",
        "        # Loop through each class (onion_diseases, maize_pests, etc.)\n",
        "        for class_name in os.listdir(language_path):\n",
        "            class_folder = os.path.join(language_path, class_name)\n",
        "\n",
        "            if not os.path.isdir(class_folder):\n",
        "                continue  # Skip if it's not a folder\n",
        "\n",
        "            print(f\"  ➡️ Class: {class_name}\")\n",
        "\n",
        "            # ✅ Recursively get all image paths from subfolders\n",
        "            image_paths = glob.glob(os.path.join(class_folder, '**', '*.*'), recursive=True)\n",
        "            image_paths = [path for path in image_paths if path.lower().endswith(('.png', '.jpg', '.jpeg'))]\n",
        "\n",
        "            print(f\"    Found {len(image_paths)} images.\")\n",
        "\n",
        "            if len(image_paths) == 0:\n",
        "                print(f\"    ⚠️ No images found for {class_name}. Skipping...\")\n",
        "                continue  # Skip this class if no images are found\n",
        "\n",
        "            # Split into training and validation sets\n",
        "            train_paths, val_paths = train_test_split(image_paths, test_size=val_size, random_state=42)\n",
        "\n",
        "            # Create corresponding folders in train and val directories\n",
        "            os.makedirs(os.path.join(train_dir, class_name), exist_ok=True)\n",
        "            os.makedirs(os.path.join(val_dir, class_name), exist_ok=True)\n",
        "\n",
        "            # Copy training images\n",
        "            for path in train_paths:\n",
        "                shutil.copy(path, os.path.join(train_dir, class_name, os.path.basename(path)))\n",
        "\n",
        "            # Copy validation images\n",
        "            for path in val_paths:\n",
        "                shutil.copy(path, os.path.join(val_dir, class_name, os.path.basename(path)))\n",
        "\n",
        "            print(f\"    ✅ {len(train_paths)} training and {len(val_paths)} validation images copied for class '{class_name}'.\")\n",
        "\n",
        "    print(\"✅ Data split completed!\")\n",
        "\n",
        "split_data(DATA_DIR, OUTPUT_DIR)"
      ],
      "metadata": {
        "id": "fpfN03U1VrlD",
        "colab": {
          "base_uri": "https://localhost:8080/"
        },
        "outputId": "b579e885-7e5c-44f4-ce82-fc761b79750c"
      },
      "execution_count": null,
      "outputs": [
        {
          "output_type": "stream",
          "name": "stdout",
          "text": [
            "📁 Starting data split...\n",
            "🔍 Processing language folder: onion_diseases\n",
            "  ➡️ Class: Fusariose-D\n",
            "    Found 738 images.\n",
            "    ✅ 590 training and 148 validation images copied for class 'Fusariose-D'.\n",
            "  ➡️ Class: Virose-D\n",
            "    Found 203 images.\n",
            "    ✅ 162 training and 41 validation images copied for class 'Virose-D'.\n",
            "  ➡️ Class: Pourriture des bulbes-D\n",
            "    Found 30 images.\n",
            "    ✅ 24 training and 6 validation images copied for class 'Pourriture des bulbes-D'.\n",
            "  ➡️ Class: Feuille saine\n",
            "    Found 679 images.\n",
            "    ✅ 543 training and 136 validation images copied for class 'Feuille saine'.\n",
            "  ➡️ Class: Alternariose_D\n",
            "    Found 515 images.\n",
            "    ✅ 412 training and 103 validation images copied for class 'Alternariose_D'.\n",
            "🔍 Processing language folder: tomato_pests\n",
            "  ➡️ Class: tuta_absoluta_p\n",
            "    Found 19 images.\n",
            "    ✅ 15 training and 4 validation images copied for class 'tuta_absoluta_p'.\n",
            "  ➡️ Class: helicoverpa_armigera_p\n",
            "    Found 298 images.\n",
            "    ✅ 238 training and 60 validation images copied for class 'helicoverpa_armigera_p'.\n",
            "🔍 Processing language folder: tomato_diseases\n",
            "  ➡️ Class: fruit_sain\n",
            "    Found 552 images.\n",
            "    ✅ 441 training and 111 validation images copied for class 'fruit_sain'.\n",
            "  ➡️ Class: virose_d\n",
            "    Found 1542 images.\n",
            "    ✅ 1233 training and 309 validation images copied for class 'virose_d'.\n",
            "  ➡️ Class: fusariose_d\n",
            "    Found 18 images.\n",
            "    ✅ 14 training and 4 validation images copied for class 'fusariose_d'.\n",
            "  ➡️ Class: mildiou_de_la_tomate_d\n",
            "    Found 74 images.\n",
            "    ✅ 59 training and 15 validation images copied for class 'mildiou_de_la_tomate_d'.\n",
            "  ➡️ Class: pourriture_apicale_d\n",
            "    Found 118 images.\n",
            "    ✅ 94 training and 24 validation images copied for class 'pourriture_apicale_d'.\n",
            "  ➡️ Class: fl├⌐trissement_bact├⌐rien_d\n",
            "    Found 259 images.\n",
            "    ✅ 207 training and 52 validation images copied for class 'fl├⌐trissement_bact├⌐rien_d'.\n",
            "  ➡️ Class: exces_d'azote_d\n",
            "    Found 43 images.\n",
            "    ✅ 34 training and 9 validation images copied for class 'exces_d'azote_d'.\n",
            "  ➡️ Class: acarien_d\n",
            "    Found 390 images.\n",
            "    ✅ 312 training and 78 validation images copied for class 'acarien_d'.\n",
            "  ➡️ Class: alternariose_acarien_d\n",
            "    Found 8 images.\n",
            "    ✅ 6 training and 2 validation images copied for class 'alternariose_acarien_d'.\n",
            "  ➡️ Class: coup_du_soleil_d\n",
            "    Found 51 images.\n",
            "    ✅ 40 training and 11 validation images copied for class 'coup_du_soleil_d'.\n",
            "  ➡️ Class: alternariose_d\n",
            "    Found 322 images.\n",
            "    ✅ 257 training and 65 validation images copied for class 'alternariose_d'.\n",
            "  ➡️ Class: feuille_saine\n",
            "    Found 785 images.\n",
            "    ✅ 628 training and 157 validation images copied for class 'feuille_saine'.\n",
            "🔍 Processing language folder: onion_pests\n",
            "  ➡️ Class: Chenilles-P\n",
            "    Found 879 images.\n",
            "    ✅ 703 training and 176 validation images copied for class 'Chenilles-P'.\n",
            "🔍 Processing language folder: maize_pests_activities\n",
            "  ➡️ Class: Chenille l├⌐gionnaire- A\n",
            "    Found 616 images.\n",
            "    ✅ 492 training and 124 validation images copied for class 'Chenille l├⌐gionnaire- A'.\n",
            "🔍 Processing language folder: maize_diseases\n",
            "  ➡️ Class: Maladie abiotique-D\n",
            "    Found 77 images.\n",
            "    ✅ 61 training and 16 validation images copied for class 'Maladie abiotique-D'.\n",
            "  ➡️ Class: Virose-D\n",
            "    Found 148 images.\n",
            "    ✅ 118 training and 30 validation images copied for class 'Virose-D'.\n",
            "  ➡️ Class: Rouille-D\n",
            "    Found 99 images.\n",
            "    ✅ 79 training and 20 validation images copied for class 'Rouille-D'.\n",
            "  ➡️ Class: Helminthosporiose-D\n",
            "    Found 159 images.\n",
            "    ✅ 127 training and 32 validation images copied for class 'Helminthosporiose-D'.\n",
            "  ➡️ Class: Striure-D\n",
            "    Found 2190 images.\n",
            "    ✅ 1752 training and 438 validation images copied for class 'Striure-D'.\n",
            "  ➡️ Class: Curvulariose-D\n",
            "    Found 259 images.\n",
            "    ✅ 207 training and 52 validation images copied for class 'Curvulariose-D'.\n",
            "  ➡️ Class: Feuille saine\n",
            "    Found 585 images.\n",
            "    ✅ 468 training and 117 validation images copied for class 'Feuille saine'.\n",
            "🔍 Processing language folder: maize_pests\n",
            "  ➡️ Class: Pucerons-P\n",
            "    Found 4 images.\n",
            "    ✅ 3 training and 1 validation images copied for class 'Pucerons-P'.\n",
            "  ➡️ Class: Chenille l├⌐gionnaire-P\n",
            "    Found 600 images.\n",
            "    ✅ 480 training and 120 validation images copied for class 'Chenille l├⌐gionnaire-P'.\n",
            "✅ Data split completed!\n"
          ]
        }
      ]
    },
    {
      "cell_type": "code",
      "source": [
        "# Step 2: Create ImageDataGenerators for data augmentation and preprocessing\n",
        "train_datagen = ImageDataGenerator(\n",
        "    rescale=1./255,               # Normalize pixel values to [0,1]\n",
        "    rotation_range=40,\n",
        "    width_shift_range=0.2,\n",
        "    height_shift_range=0.2,\n",
        "    shear_range=0.2,\n",
        "    zoom_range=0.2,\n",
        "    horizontal_flip=True,\n",
        "    fill_mode='nearest')\n",
        "\n",
        "validation_datagen = ImageDataGenerator(rescale=1./255)"
      ],
      "metadata": {
        "id": "I84avfhpWiiN"
      },
      "execution_count": null,
      "outputs": []
    },
    {
      "cell_type": "code",
      "source": [
        "# Step 3: Create data generators for training and validation sets\n",
        "train_generator = train_datagen.flow_from_directory(\n",
        "    os.path.join(OUTPUT_DIR, 'train'),  # Updated with the split data path\n",
        "    target_size=IMG_SIZE,\n",
        "    batch_size=BATCH_SIZE,\n",
        "    class_mode='categorical'  # 'categorical' because we have multiple classes\n",
        ")\n",
        "\n",
        "validation_generator = validation_datagen.flow_from_directory(\n",
        "    os.path.join(OUTPUT_DIR, 'val'),  # Updated with the split data path\n",
        "    target_size=IMG_SIZE,\n",
        "    batch_size=BATCH_SIZE,\n",
        "    class_mode='categorical'\n",
        ")"
      ],
      "metadata": {
        "id": "Xxucoxc3WoF7",
        "colab": {
          "base_uri": "https://localhost:8080/"
        },
        "outputId": "023c8b34-4f22-4a72-bf5c-8def6b7b7a05"
      },
      "execution_count": null,
      "outputs": [
        {
          "output_type": "stream",
          "name": "stdout",
          "text": [
            "Found 9799 images belonging to 28 classes.\n",
            "Found 2461 images belonging to 28 classes.\n"
          ]
        }
      ]
    },
    {
      "cell_type": "code",
      "source": [
        "# Step 4: Build the Model using EfficientNetB0 for transfer learning\n",
        "base_model = tf.keras.applications.EfficientNetB0(\n",
        "    weights='imagenet', include_top=False, input_shape=(224, 224, 3)\n",
        ")\n",
        "base_model.trainable = False  # Freeze the base model layers\n",
        "\n",
        "# Build the model on top of EfficientNetB0\n",
        "model = tf.keras.Sequential([\n",
        "    base_model,\n",
        "    tf.keras.layers.GlobalAveragePooling2D(),\n",
        "    tf.keras.layers.Dropout(0.5),\n",
        "    tf.keras.layers.Dense(256, activation='relu'),\n",
        "    tf.keras.layers.Dense(train_generator.num_classes, activation='softmax')\n",
        "])\n",
        "\n",
        "# Compile the model\n",
        "model.compile(optimizer='adam', loss='categorical_crossentropy', metrics=['accuracy'])"
      ],
      "metadata": {
        "id": "zjSzarPyCMws",
        "colab": {
          "base_uri": "https://localhost:8080/"
        },
        "outputId": "7a3477a6-b319-4588-d70e-e190b6c5195b"
      },
      "execution_count": null,
      "outputs": [
        {
          "output_type": "stream",
          "name": "stdout",
          "text": [
            "Downloading data from https://storage.googleapis.com/keras-applications/efficientnetb0_notop.h5\n",
            "\u001b[1m16705208/16705208\u001b[0m \u001b[32m━━━━━━━━━━━━━━━━━━━━\u001b[0m\u001b[37m\u001b[0m \u001b[1m0s\u001b[0m 0us/step\n"
          ]
        }
      ]
    },
    {
      "cell_type": "code",
      "source": [
        "# Step 5: Train model with progress\n",
        "print(\"🚀 Starting training...\")\n",
        "history = model.fit(\n",
        "    train_generator,\n",
        "    steps_per_epoch=train_generator.samples // train_generator.batch_size,\n",
        "    epochs=2,\n",
        "    validation_data=validation_generator,\n",
        "    validation_steps=validation_generator.samples // validation_generator.batch_size\n",
        ")\n",
        "print(\"🎉 Training completed!\")"
      ],
      "metadata": {
        "id": "KMS8PvoCCgSW",
        "colab": {
          "base_uri": "https://localhost:8080/"
        },
        "outputId": "8d7bdaa6-b730-474a-9e06-f59d211b5031"
      },
      "execution_count": null,
      "outputs": [
        {
          "metadata": {
            "tags": null
          },
          "name": "stdout",
          "output_type": "stream",
          "text": [
            "🚀 Starting training...\n"
          ]
        },
        {
          "metadata": {
            "tags": null
          },
          "name": "stderr",
          "output_type": "stream",
          "text": [
            "/usr/local/lib/python3.11/dist-packages/keras/src/trainers/data_adapters/py_dataset_adapter.py:121: UserWarning: Your `PyDataset` class should call `super().__init__(**kwargs)` in its constructor. `**kwargs` can include `workers`, `use_multiprocessing`, `max_queue_size`. Do not pass these arguments to `fit()`, as they will be ignored.\n",
            "  self._warn_if_super_not_called()\n"
          ]
        },
        {
          "output_type": "stream",
          "name": "stdout",
          "text": [
            "Epoch 1/2\n",
            "\u001b[1m306/306\u001b[0m \u001b[32m━━━━━━━━━━━━━━━━━━━━\u001b[0m\u001b[37m\u001b[0m \u001b[1m1098s\u001b[0m 4s/step - accuracy: 0.1525 - loss: 2.8479 - val_accuracy: 0.1785 - val_loss: 2.7856\n",
            "Epoch 2/2\n",
            "\u001b[1m  1/306\u001b[0m \u001b[37m━━━━━━━━━━━━━━━━━━━━\u001b[0m \u001b[1m28:00\u001b[0m 6s/step - accuracy: 0.1875 - loss: 2.7499"
          ]
        },
        {
          "output_type": "stream",
          "name": "stderr",
          "text": [
            "/usr/local/lib/python3.11/dist-packages/keras/src/trainers/epoch_iterator.py:107: UserWarning: Your input ran out of data; interrupting training. Make sure that your dataset or generator can generate at least `steps_per_epoch * epochs` batches. You may need to use the `.repeat()` function when building your dataset.\n",
            "  self._interrupted_warning()\n"
          ]
        },
        {
          "output_type": "stream",
          "name": "stdout",
          "text": [
            "\b\b\b\b\b\b\b\b\b\b\b\b\b\b\b\b\b\b\b\b\b\b\b\b\b\b\b\b\b\b\b\b\b\b\b\b\b\b\b\b\b\b\b\b\b\b\b\b\b\b\b\b\b\b\b\b\b\b\b\b\b\b\b\b\b\b\b\b\b\b\b\b\b\b\b\b\r\u001b[1m306/306\u001b[0m \u001b[32m━━━━━━━━━━━━━━━━━━━━\u001b[0m\u001b[37m\u001b[0m \u001b[1m205s\u001b[0m 656ms/step - accuracy: 0.1875 - loss: 2.7499 - val_accuracy: 0.1768 - val_loss: 2.7799\n",
            "🎉 Training completed!\n"
          ]
        }
      ]
    },
    {
      "cell_type": "code",
      "source": [
        "# Step 6: Plot accuracy and loss\n",
        "def plot_history(history):\n",
        "    acc = history.history['accuracy']\n",
        "    val_acc = history.history['val_accuracy']\n",
        "    loss = history.history['loss']\n",
        "    val_loss = history.history['val_loss']\n",
        "    epochs = range(1, len(acc) + 1)\n",
        "\n",
        "    plt.figure(figsize=(12, 5))\n",
        "\n",
        "    plt.subplot(1, 2, 1)\n",
        "    plt.plot(epochs, acc, 'b', label='Training Accuracy')\n",
        "    plt.plot(epochs, val_acc, 'r', label='Validation Accuracy')\n",
        "    plt.title('Training and Validation Accuracy')\n",
        "    plt.legend()\n",
        "\n",
        "    plt.subplot(1, 2, 2)\n",
        "    plt.plot(epochs, loss, 'b', label='Training Loss')\n",
        "    plt.plot(epochs, val_loss, 'r', label='Validation Loss')\n",
        "    plt.title('Training and Validation Loss')\n",
        "    plt.legend()\n",
        "\n",
        "    plt.show()\n",
        "\n",
        "plot_history(history)"
      ],
      "metadata": {
        "colab": {
          "base_uri": "https://localhost:8080/",
          "height": 468
        },
        "id": "vXlrA1dLvmbm",
        "outputId": "7b680713-7ab3-49fa-861a-8c739d354a15"
      },
      "execution_count": null,
      "outputs": [
        {
          "output_type": "display_data",
          "data": {
            "text/plain": [
              "<Figure size 1200x500 with 2 Axes>"
            ],
            "image/png": "[encoded data removed]"
          },
          "metadata": {}
        }
      ]
    },
    {
      "cell_type": "code",
      "source": [
        "# Step 7: Save model to Google Drive\n",
        "print(f\"💾 Saving model to {MODEL_SAVE_PATH}\")\n",
        "model.save(MODEL_SAVE_PATH)\n",
        "print(\"✅ Model saved!\")"
      ],
      "metadata": {
        "colab": {
          "base_uri": "https://localhost:8080/"
        },
        "id": "uKvbIvdfv8Ec",
        "outputId": "9490b41c-cc98-4dc7-eeed-def1f88982d4"
      },
      "execution_count": null,
      "outputs": [
        {
          "output_type": "stream",
          "name": "stdout",
          "text": [
            "💾 Saving model to /content/drive/MyDrive/crop_pest_disease_classifier.keras\n",
            "✅ Model saved!\n"
          ]
        }
      ]
    }
  ]
}